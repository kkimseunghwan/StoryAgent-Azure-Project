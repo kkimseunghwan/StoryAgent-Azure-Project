{
 "cells": [
  {
   "cell_type": "code",
   "execution_count": null,
   "id": "847a631a",
   "metadata": {},
   "outputs": [],
   "source": [
    "from azure.storage.blob import BlobServiceClient, generate_blob_sas, BlobSasPermissions\n",
    "from dto.file_upload_request import FileUploadRequest\n",
    "import azure.functions as func\n",
    "from fastapi import FastAPI\n",
    "from fastapi.middleware.cors import CORSMiddleware\n",
    "from datetime import datetime, timedelta, timezone\n",
    "import logging\n",
    "import uuid\n",
    "import os"
   ]
  },
  {
   "cell_type": "code",
   "execution_count": null,
   "id": "2857ea1c",
   "metadata": {},
   "outputs": [],
   "source": [
    "\n",
    "fast_app = FastAPI()\n",
    "\n",
    "# CORSMiddleware 사용 이유: Azure Functions는 기본적으로 CORS를 지원하지 않기 때문에, FastAPI에서 CORS를 설정하여 다른 도메인에서 API를 호출할 수 있록함\n",
    "fast_app.add_middleware(\n",
    "    CORSMiddleware,\n",
    "    allow_origins=[\"*\"],\n",
    "    allow_methods=[\"*\"],\n",
    "    allow_headers=[\"*\"]\n",
    ")\n",
    "\n",
    "# func.AsgiFunctionApp란? \n",
    "#   => Azure Functions에서 FastAPI와 같은 ASGI 애플리케이션을 실행할 수 있도록 해주는 래퍼 클래스 \n",
    "app = func.AsgiFunctionApp(app=fast_app, http_auth_level=func.AuthLevel.ANONYMOUS)\n",
    "\n"
   ]
  },
  {
   "cell_type": "code",
   "execution_count": null,
   "id": "3f5f66ea",
   "metadata": {},
   "outputs": [],
   "source": [
    "\n",
    "# !오류 주의\n",
    "# The route template separator character '/' cannot appear consecutively\n",
    "#   => FastAPI에서 경로를 정의할 때, '/'가 연속으로 나오는 문제임\n",
    "\n",
    "# !해결 방법\n",
    "#   => host.json에 아래와 같은 항목 추가\n",
    "#\n",
    "#   \"extensions\": {\n",
    "#     \"http\": {\n",
    "#       \"routePrefix\": \"\"\n",
    "#     }\n",
    "#   }\n",
    "\n",
    "@fast_app.get(\"/storage/SAS/token\")\n",
    "async def get_sas_token(request: FileUploadRequest):\n",
    "    return request\n"
   ]
  }
 ],
 "metadata": {
  "kernelspec": {
   "display_name": ".venv",
   "language": "python",
   "name": "python3"
  },
  "language_info": {
   "name": "python",
   "version": "3.11.9"
  }
 },
 "nbformat": 4,
 "nbformat_minor": 5
}
