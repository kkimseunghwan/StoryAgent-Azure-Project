{
 "cells": [
  {
   "cell_type": "code",
   "execution_count": null,
   "id": "3086801e",
   "metadata": {},
   "outputs": [],
   "source": [
    "# 로컬에서 테스트 시, 포트 겹칠 수 있음\n",
    "#       =>> func host start --port 7072\n",
    "\n",
    "import azure.functions as func\n",
    "import azure.durable_functions as df\n",
    "\n",
    "myApp = df.DFApp(http_auth_level=func.AuthLevel.ANONYMOUS)\n",
    "\n",
    "# An HTTP-triggered function with a Durable Functions client binding\n",
    "@myApp.route(route=\"orchestrators/hello_orchestrator\")\n",
    "@myApp.durable_client_input(client_name=\"client\")\n",
    "async def http_start(req: func.HttpRequest, client):\n",
    "    function_name = req.route_params.get('functionName')\n",
    "    instance_id = await client.start_new(function_name)\n",
    "    response = client.create_check_status_response(req, instance_id)\n",
    "    return response\n",
    "\n",
    "# Orchestrator\n",
    "@myApp.orchestration_trigger(context_name=\"context\")\n",
    "def hello_orchestrator(context):\n",
    "    result1 = yield context.call_activity(\"hello\", \"Seattle\")\n",
    "    result2 = yield context.call_activity(\"hello\", \"Tokyo\")\n",
    "    result3 = yield context.call_activity(\"hello\", \"London\")\n",
    "\n",
    "    return [result1, result2, result3]\n",
    "\n",
    "# Activity\n",
    "@myApp.activity_trigger(input_name=\"city\")\n",
    "def hello(city: str):\n",
    "    return f\"Hello {city}\""
   ]
  }
 ],
 "metadata": {
  "kernelspec": {
   "display_name": ".venv",
   "language": "python",
   "name": "python3"
  },
  "language_info": {
   "name": "python",
   "version": "3.11.9"
  }
 },
 "nbformat": 4,
 "nbformat_minor": 5
}
