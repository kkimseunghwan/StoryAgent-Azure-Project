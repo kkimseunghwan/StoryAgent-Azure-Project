{
 "cells": [
  {
   "cell_type": "code",
   "execution_count": null,
   "id": "0fc752e7",
   "metadata": {},
   "outputs": [
    {
     "name": "stdout",
     "output_type": "stream",
     "text": [
      "테스트를 시작합니다...\n",
      "Endpoint: https://stude-mcyfic2c-swedencentral.cognitiveservices.azure.com/openai/deployments/StoryAgent-whisper/audio/translations?api-version=2024-06-01\n",
      "Deployment: StoryAgent-whisper\n",
      "'C:\\Users\\soldesk\\Downloads\\min-text.mp3' 파일을 읽어 API 호출을 시도합니다.\n",
      "\n",
      "--- API 호출 성공 ---\n",
      "결과 : Just listen to it for a minute. We always upload a one-minute video, right? What's going on in the world until this video starts and ends? First, 250 people are born in a minute and 107 people are dying. 18 of the dead die of starvation. 6 million people buy things online, and 300 million items are sold on Amazon. 700,000 videos are played on YouTube, and 5.7 million searches are made on Google. The light can go back and forth 24 times a day, and time flows slowly in the strong sun. 59.999937 seconds pass in a minute. Humans kill about 800 billion animals, and 12 million ants are born. Seagulls move 80 centimeters, and even faster sloths move only 2 meters. 10,000 condoms are sold in this hour, and 30,000 people share love. Huh? What are the other 70,000 people doing? Anyway, more than 8,000 planes land, and the Earth moves 700 kilometers a day. The result of the college entrance exam is decided within this hour, and 24 million comments are posted. The number of comments is 18 million, and 200 million emails are overflowing. 12,000 stars are torn apart, 24 million stars are born, and 4,740 stars die. In conclusion, you can listen to one free song and watch four YouTube 15-second ads. If you watched the ad while watching this video, it's enough time to subscribe and like. And if you do it at 2x speed, you can watch two videos in a minute. And the best thing is that you can sleep more in the morning.\n",
      "--------------------\n"
     ]
    }
   ],
   "source": [
    "# whisper_test.py\n",
    "import os\n",
    "from openai import AzureOpenAI\n",
    "\n",
    "# --- 설정 (사용자 환경에 맞게 수정) ---\n",
    "# 1. 환경 변수 설정 또는 직접 값 입력\n",
    "# (환경 변수가 설정되어 있다면 이 코드는 그대로 두셔도 됩니다)\n",
    "AZURE_OPENAI_ENDPOINT = \"\"\n",
    "AZURE_OPENAI_KEY = \"\"\n",
    "DEPLOYMENT_NAME = \"StoryAgent-whisper\" # Azure에 배포한 모델 이름\n",
    "\n",
    "# 2. 테스트할 로컬 오디오 파일 경로\n",
    "LOCAL_AUDIO_PATH = r\"C:\\Users\\soldesk\\Downloads\\min-text.mp3\"\n",
    "# -----------------------------------------\n",
    "\n",
    "print(\"테스트를 시작합니다...\")\n",
    "print(f\"Endpoint: {AZURE_OPENAI_ENDPOINT}\")\n",
    "print(f\"Deployment: {DEPLOYMENT_NAME}\")\n",
    "\n",
    "try:\n",
    "    # Azure OpenAI 클라이언트 초기화\n",
    "    client = AzureOpenAI(\n",
    "        azure_endpoint=AZURE_OPENAI_ENDPOINT,\n",
    "        api_key=AZURE_OPENAI_KEY,\n",
    "        api_version=\"2024-02-01\" # 안정적인 버전 사용 권장\n",
    "    )\n",
    "\n",
    "    # 로컬 오디오 파일을 바이너리 모드로 열기\n",
    "    with open(LOCAL_AUDIO_PATH, \"rb\") as audio_file:\n",
    "        print(f\"'{LOCAL_AUDIO_PATH}' 파일을 읽어 API 호출을 시도합니다.\")\n",
    "\n",
    "        # Whisper API 호출\n",
    "        result = client.audio.transcriptions.create(\n",
    "            model=DEPLOYMENT_NAME,\n",
    "            file=audio_file,\n",
    "            language=\"ko\",\n",
    "            temperature=0.0\n",
    "            # prompt=\"한국어 오디오에 대한 스크립트 입니다. 음성을 텍스트로 변환하여 *한국어*로 출력 해주세요.\"\n",
    "        )\n",
    "\n",
    "    print(\"\\n--- API 호출 성공 ---\")\n",
    "    print(\"결과 :\", result.text)\n",
    "    print(\"--------------------\")\n",
    "\n",
    "except FileNotFoundError:\n",
    "    print(f\"\\n[오류] 파일을 찾을 수 없습니다: '{LOCAL_AUDIO_PATH}'\")\n",
    "    print(\"스크립트와 오디오 파일이 같은 폴더에 있는지 확인하세요.\")\n",
    "except Exception as e:\n",
    "    print(f\"\\n[오류] API 호출 중 문제가 발생했습니다: {e}\")"
   ]
  },
  {
   "cell_type": "code",
   "execution_count": null,
   "id": "8d1f6ed3",
   "metadata": {},
   "outputs": [
    {
     "name": "stdout",
     "output_type": "stream",
     "text": [
      "딱 1분만 집중해서 들어봐. 맨날 우리가 1분짜리 영상을 올리잖아? 이 영상이 시작하고 끝날 때까지는 대체 무슨 일이 일어나고 있을까? 먼저 1분 동안 250명의 사람이 태어나고 107명이 죽어가고 있어. 죽는 사람 중에 18명은 굶어서 죽지. 100만 명은 온라인에서 물건을 사고, 그러면서 사 먹은 옷의 물건이 팔려. 유튜브에선 70만 개의 동영상이 재생되고, 유튜브에선 570만 번의 검색이 일어나. 우주엔 달까지 24번 왔다 갔다 할 수 있고, 중력이 강한 태양에서는 시간이 느리게 흘러서 1분 동안 59.99993초만큼만 지났지. 인간은 8천억 정도의 동식물을 죽이고, 1200만 마리의 개미들이 태어나. 달팽이는 80cm를 이동하고, 조금 더 빠른 나무늘보는 2m나 움직이지. 1시간 동안 팔리는 콘돔은 1만 개고, 8만 명이 사랑을 나누는데, 그럼 나머지 7만 명은 뭐 하는 거야? 아무튼 8천 대의 비행기가 이착륙하고, 지구는 177km를 움직여. 대학교 수강 신청의 결과는 1시간 안에 결정되고, 댓글은 2400만 개가 달리며, 문자는 1800만 개, 이메일은 2억 개가 오가고 있어. 얼음은 1만 2천 번 날개짓을 하고, 별은 24만 개가 탄생하고, 4740개의 별이 죽어. 멜론으로 무료 노래 1개를 들을 수 있고, 유튜브 15초 광고를 4개 볼 수 있어. 혹시 이 영상을 보면서 광고를 봤다면, 구독과 좋아요 누르기엔 너무나 충분한 시간이지. 그리고 2배속으로 하면 1분만 영상 2개를 볼 수 있어. 그리고 진짜 제일 쩌는 건 아침에 더 잘 수 있는 1분...\n"
     ]
    }
   ],
   "source": [
    "from openai import OpenAI\n",
    "\n",
    "OPENAI_API_KEY=\"\"\n",
    "\n",
    "client = OpenAI(api_key=OPENAI_API_KEY)\n",
    "audio_file= open(\"C:/Users/soldesk/Downloads/min-text.mp3\", \"rb\")\n",
    "\n",
    "transcription = client.audio.transcriptions.create(\n",
    "    model=\"gpt-4o-transcribe\", \n",
    "    file=audio_file,\n",
    "    language=\"ko\"\n",
    ")\n",
    "\n",
    "print(transcription.text)"
   ]
  }
 ],
 "metadata": {
  "kernelspec": {
   "display_name": ".venv",
   "language": "python",
   "name": "python3"
  },
  "language_info": {
   "codemirror_mode": {
    "name": "ipython",
    "version": 3
   },
   "file_extension": ".py",
   "mimetype": "text/x-python",
   "name": "python",
   "nbconvert_exporter": "python",
   "pygments_lexer": "ipython3",
   "version": "3.11.9"
  }
 },
 "nbformat": 4,
 "nbformat_minor": 5
}
