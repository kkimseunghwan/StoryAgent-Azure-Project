{
 "cells": [
  {
   "cell_type": "code",
   "execution_count": null,
   "id": "0fc752e7",
   "metadata": {},
   "outputs": [
    {
     "name": "stdout",
     "output_type": "stream",
     "text": [
      "테스트를 시작합니다...\n",
      "Endpoint: https://stude-mcyfic2c-swedencentral.cognitiveservices.azure.com/openai/deployments/StoryAgent-whisper/audio/translations?api-version=2024-06-01\n",
      "Deployment: StoryAgent-whisper-\n",
      "'C:\\Users\\soldesk\\Downloads\\min-text.mp3' 파일을 읽어 API 호출을 시도합니다.\n",
      "\n",
      "--- API 호출 성공 ---\n",
      "결과 : Transcription(text='Just listen to it for a minute. Just listen to it for a minute. Just listen to it for a minute. Just listen to it for a minute. Just listen to it for a minute. Just listen to it for a minute. Just listen to it for a minute. Just listen to it for a minute. Just listen to it for a minute. Just listen to it for a minute. Just listen to it for a minute. Just listen to it for a minute. Just listen to it for a minute. Just listen to it for a minute. Just listen to it for a minute. Just listen to it for a minute. Just listen to it for a minute. Just listen to it for a minute. Just listen to it for a minute. Just listen to it for a minute. Just listen to it for a minute. Just listen to it for a minute. Just listen to it for a minute. Just listen to it for a minute. Just listen to it for a minute. Just listen to it for a minute. Just listen to it for a minute. Just listen to it for a minute. Just listen to it for a minute. Just listen to it for a minute. Just listen to it for a minute. Just listen to it for a minute. Just listen to it for a minute. Just listen to it for a minute. Just listen to it for a minute. Just listen to it for a minute. Just listen to it for a minute. Just listen to it for a minute. Just listen to it for a minute. Just listen to it for a minute. Just listen to it for a minute. Just listen to it for a minute. Just listen to it for a minute. Just listen to it for a minute. Just listen to it for a minute.', logprobs=None, usage=None)\n",
      "--------------------\n"
     ]
    }
   ],
   "source": [
    "# whisper_test.py\n",
    "import os\n",
    "from openai import AzureOpenAI\n",
    "\n",
    "# --- 설정 (사용자 환경에 맞게 수정) ---\n",
    "# 1. 환경 변수 설정 또는 직접 값 입력\n",
    "# (환경 변수가 설정되어 있다면 이 코드는 그대로 두셔도 됩니다)\n",
    "AZURE_OPENAI_ENDPOINT = \"\"\n",
    "AZURE_OPENAI_KEY = \"\"\n",
    "DEPLOYMENT_NAME = \"StoryAgent-whisper-\" # Azure에 배포한 모델 이름\n",
    "\n",
    "# 2. 테스트할 로컬 오디오 파일 경로\n",
    "LOCAL_AUDIO_PATH = r\"C:\\Users\\soldesk\\Downloads\\min-text.mp3\"\n",
    "# -----------------------------------------\n",
    "\n",
    "print(\"테스트를 시작합니다...\")\n",
    "print(f\"Endpoint: {AZURE_OPENAI_ENDPOINT}\")\n",
    "print(f\"Deployment: {DEPLOYMENT_NAME}\")\n",
    "\n",
    "try:\n",
    "    # Azure OpenAI 클라이언트 초기화\n",
    "    client = AzureOpenAI(\n",
    "        azure_endpoint=AZURE_OPENAI_ENDPOINT,\n",
    "        api_key=AZURE_OPENAI_KEY,\n",
    "        api_version=\"2024-02-01\" # 안정적인 버전 사용 권장\n",
    "    )\n",
    "\n",
    "    # 로컬 오디오 파일을 바이너리 모드로 열기\n",
    "    with open(LOCAL_AUDIO_PATH, \"rb\") as audio_file:\n",
    "        print(f\"'{LOCAL_AUDIO_PATH}' 파일을 읽어 API 호출을 시도합니다.\")\n",
    "\n",
    "        # Whisper API 호출\n",
    "        result = client.audio.transcriptions.create(\n",
    "            model=DEPLOYMENT_NAME,\n",
    "            file=audio_file,\n",
    "            language=\"ko\",\n",
    "            temperature=0.0,\n",
    "            prompt=\"한국어로 음성 텍스트를 변환해주세요.\"\n",
    "        )\n",
    "\n",
    "    print(\"\\n--- API 호출 성공 ---\")\n",
    "    print(\"결과 :\", result)\n",
    "    print(\"--------------------\")\n",
    "\n",
    "except FileNotFoundError:\n",
    "    print(f\"\\n[오류] 파일을 찾을 수 없습니다: '{LOCAL_AUDIO_PATH}'\")\n",
    "    print(\"스크립트와 오디오 파일이 같은 폴더에 있는지 확인하세요.\")\n",
    "except Exception as e:\n",
    "    print(f\"\\n[오류] API 호출 중 문제가 발생했습니다: {e}\")"
   ]
  }
 ],
 "metadata": {
  "kernelspec": {
   "display_name": ".venv",
   "language": "python",
   "name": "python3"
  },
  "language_info": {
   "codemirror_mode": {
    "name": "ipython",
    "version": 3
   },
   "file_extension": ".py",
   "mimetype": "text/x-python",
   "name": "python",
   "nbconvert_exporter": "python",
   "pygments_lexer": "ipython3",
   "version": "3.11.9"
  }
 },
 "nbformat": 4,
 "nbformat_minor": 5
}
